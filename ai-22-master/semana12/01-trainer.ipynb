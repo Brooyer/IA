{
 "cells": [
  {
   "cell_type": "code",
   "execution_count": 1,
   "id": "f8663765",
   "metadata": {},
   "outputs": [],
   "source": [
    "import numpy as np"
   ]
  },
  {
   "cell_type": "code",
   "execution_count": 2,
   "id": "d59f3c9e",
   "metadata": {},
   "outputs": [],
   "source": [
    "import pandas as pd\n",
    "import numpy as np\n",
    "from tensorflow import keras\n",
    "import matplotlib.pyplot as plt\n",
    "\n",
    "# Red neuronal secuencial\n",
    "from tensorflow.keras.models import Sequential\n",
    "# Capa completamente conectada\n",
    "from tensorflow.keras import layers\n",
    "from tensorflow.keras.layers import Dense, Conv2D\n",
    "# Optimizador\n",
    "from tensorflow.keras.optimizers import Adam"
   ]
  },
  {
   "cell_type": "code",
   "execution_count": 3,
   "id": "cbb4fc23",
   "metadata": {},
   "outputs": [],
   "source": [
    "registros = 10000\n",
    "a = np.random.randint(0, 10, registros)\n",
    "b = np.random.randint(0, 10, registros)\n",
    "c = a * 2 + b"
   ]
  },
  {
   "cell_type": "code",
   "execution_count": 4,
   "id": "9cfac518",
   "metadata": {},
   "outputs": [],
   "source": [
    "data = pd.DataFrame({'a': a, 'b': b, 'c': c})"
   ]
  },
  {
   "cell_type": "code",
   "execution_count": 5,
   "id": "260b411e",
   "metadata": {},
   "outputs": [],
   "source": [
    "X = data[['a', 'b']]\n",
    "y = data[['c']]"
   ]
  },
  {
   "cell_type": "code",
   "execution_count": 10,
   "id": "362f3fbf",
   "metadata": {},
   "outputs": [],
   "source": [
    "# Crear red neuronal \n",
    "nn = Sequential([\n",
    "    layers.Input(2),\n",
    "    layers.Dense(8, activation='relu'),\n",
    "     layers.Dense(16, activation='relu'),\n",
    "     layers.Dense(16, activation='relu'),\n",
    "    layers.Dense(8, activation='relu'),\n",
    "    layers.Dense(1, activation='relu')\n",
    "])"
   ]
  },
  {
   "cell_type": "code",
   "execution_count": 11,
   "id": "c07e9702",
   "metadata": {},
   "outputs": [],
   "source": [
    "nn.compile(\n",
    "    loss='mean_absolute_error', # funcion de error\n",
    "    optimizer=Adam(0.001)       # optimizador\n",
    ")"
   ]
  },
  {
   "cell_type": "code",
   "execution_count": 12,
   "id": "79e79432",
   "metadata": {},
   "outputs": [
    {
     "name": "stdout",
     "output_type": "stream",
     "text": [
      "Epoch 1/50\n",
      "250/250 [==============================] - 8s 16ms/step - loss: 3.1121 - val_loss: 0.0783\n",
      "Epoch 2/50\n",
      "250/250 [==============================] - 3s 12ms/step - loss: 0.0518 - val_loss: 0.0728\n",
      "Epoch 3/50\n",
      "250/250 [==============================] - 3s 11ms/step - loss: 0.0324 - val_loss: 0.0432\n",
      "Epoch 4/50\n",
      "250/250 [==============================] - 3s 13ms/step - loss: 0.0321 - val_loss: 0.0537\n",
      "Epoch 5/50\n",
      "250/250 [==============================] - 3s 12ms/step - loss: 0.0378 - val_loss: 0.0693\n",
      "Epoch 6/50\n",
      "250/250 [==============================] - 3s 13ms/step - loss: 0.0321 - val_loss: 0.0438\n",
      "Epoch 7/50\n",
      "250/250 [==============================] - 3s 11ms/step - loss: 0.0240 - val_loss: 0.0755\n",
      "Epoch 8/50\n",
      "250/250 [==============================] - 3s 11ms/step - loss: 0.0318 - val_loss: 0.0318\n",
      "Epoch 9/50\n",
      "250/250 [==============================] - 3s 12ms/step - loss: 0.0315 - val_loss: 0.0375\n",
      "Epoch 10/50\n",
      "250/250 [==============================] - 3s 10ms/step - loss: 0.0312 - val_loss: 0.0286\n",
      "Epoch 11/50\n",
      "250/250 [==============================] - 3s 11ms/step - loss: 0.0381 - val_loss: 0.0131\n",
      "Epoch 12/50\n",
      "250/250 [==============================] - 3s 10ms/step - loss: 0.0288 - val_loss: 0.0318\n",
      "Epoch 13/50\n",
      "250/250 [==============================] - 3s 11ms/step - loss: 0.0324 - val_loss: 0.0280\n",
      "Epoch 14/50\n",
      "250/250 [==============================] - 4s 15ms/step - loss: 0.0339 - val_loss: 0.0341\n",
      "Epoch 15/50\n",
      "250/250 [==============================] - 4s 14ms/step - loss: 0.0348 - val_loss: 0.0568\n",
      "Epoch 16/50\n",
      "250/250 [==============================] - 3s 13ms/step - loss: 0.0336 - val_loss: 0.0559\n",
      "Epoch 17/50\n",
      "250/250 [==============================] - 3s 11ms/step - loss: 0.0352 - val_loss: 0.0623\n",
      "Epoch 18/50\n",
      "250/250 [==============================] - 3s 11ms/step - loss: 0.0268 - val_loss: 0.0519\n",
      "Epoch 19/50\n",
      "250/250 [==============================] - 3s 10ms/step - loss: 0.0307 - val_loss: 0.0133\n",
      "Epoch 20/50\n",
      "250/250 [==============================] - 3s 11ms/step - loss: 0.0332 - val_loss: 0.0120\n",
      "Epoch 21/50\n",
      "250/250 [==============================] - 3s 11ms/step - loss: 0.0373 - val_loss: 0.0511\n",
      "Epoch 22/50\n",
      "250/250 [==============================] - 3s 11ms/step - loss: 0.0289 - val_loss: 0.0308\n",
      "Epoch 23/50\n",
      "250/250 [==============================] - 3s 11ms/step - loss: 0.0357 - val_loss: 0.0160\n",
      "Epoch 24/50\n",
      "250/250 [==============================] - 4s 16ms/step - loss: 0.0273 - val_loss: 0.0423\n",
      "Epoch 25/50\n",
      "250/250 [==============================] - 5s 20ms/step - loss: 0.0228 - val_loss: 0.0255\n",
      "Epoch 26/50\n",
      "250/250 [==============================] - 4s 17ms/step - loss: 0.0298 - val_loss: 0.0139\n",
      "Epoch 27/50\n",
      "250/250 [==============================] - 4s 15ms/step - loss: 0.0299 - val_loss: 0.0177\n",
      "Epoch 28/50\n",
      "250/250 [==============================] - 4s 14ms/step - loss: 0.0220 - val_loss: 0.0248\n",
      "Epoch 29/50\n",
      "250/250 [==============================] - 3s 13ms/step - loss: 0.0373 - val_loss: 0.0286\n",
      "Epoch 30/50\n",
      "250/250 [==============================] - 4s 16ms/step - loss: 0.0322 - val_loss: 0.0535\n",
      "Epoch 31/50\n",
      "250/250 [==============================] - 3s 14ms/step - loss: 0.0281 - val_loss: 0.0355\n",
      "Epoch 32/50\n",
      "250/250 [==============================] - 4s 17ms/step - loss: 0.0316 - val_loss: 0.0191\n",
      "Epoch 33/50\n",
      "250/250 [==============================] - 3s 14ms/step - loss: 0.0258 - val_loss: 0.0198\n",
      "Epoch 34/50\n",
      "250/250 [==============================] - 3s 12ms/step - loss: 0.0262 - val_loss: 0.0410\n",
      "Epoch 35/50\n",
      "250/250 [==============================] - 3s 13ms/step - loss: 0.0343 - val_loss: 0.0195\n",
      "Epoch 36/50\n",
      "250/250 [==============================] - 3s 11ms/step - loss: 0.0398 - val_loss: 0.0259\n",
      "Epoch 37/50\n",
      "250/250 [==============================] - 2s 10ms/step - loss: 0.0322 - val_loss: 0.0322\n",
      "Epoch 38/50\n",
      "250/250 [==============================] - 2s 10ms/step - loss: 0.0251 - val_loss: 0.0563\n",
      "Epoch 39/50\n",
      "250/250 [==============================] - 3s 11ms/step - loss: 0.0434 - val_loss: 0.0678\n",
      "Epoch 40/50\n",
      "250/250 [==============================] - 5s 20ms/step - loss: 0.0235 - val_loss: 0.0038\n",
      "Epoch 41/50\n",
      "250/250 [==============================] - 3s 11ms/step - loss: 0.0360 - val_loss: 0.0566\n",
      "Epoch 42/50\n",
      "250/250 [==============================] - 3s 10ms/step - loss: 0.0297 - val_loss: 0.0197\n",
      "Epoch 43/50\n",
      "250/250 [==============================] - 2s 9ms/step - loss: 0.0302 - val_loss: 0.0423\n",
      "Epoch 44/50\n",
      "250/250 [==============================] - 5s 19ms/step - loss: 0.0200 - val_loss: 0.0394\n",
      "Epoch 45/50\n",
      "250/250 [==============================] - 4s 14ms/step - loss: 0.0296 - val_loss: 0.0435\n",
      "Epoch 46/50\n",
      "250/250 [==============================] - 3s 12ms/step - loss: 0.0289 - val_loss: 0.0394\n",
      "Epoch 47/50\n",
      "250/250 [==============================] - 3s 11ms/step - loss: 0.0289 - val_loss: 0.0774\n",
      "Epoch 48/50\n",
      "250/250 [==============================] - 3s 13ms/step - loss: 0.0276 - val_loss: 0.0153\n",
      "Epoch 49/50\n",
      "250/250 [==============================] - 4s 16ms/step - loss: 0.0345 - val_loss: 0.0204\n",
      "Epoch 50/50\n",
      "250/250 [==============================] - 3s 12ms/step - loss: 0.0303 - val_loss: 0.0608\n"
     ]
    }
   ],
   "source": [
    "history = nn.fit(\n",
    "    X,\n",
    "    y,\n",
    "    validation_split=0.2,\n",
    "    verbose=1,\n",
    "    epochs=50\n",
    ")"
   ]
  },
  {
   "cell_type": "code",
   "execution_count": 13,
   "id": "91d356ce",
   "metadata": {},
   "outputs": [
    {
     "name": "stdout",
     "output_type": "stream",
     "text": [
      "[[10.949065]]\n"
     ]
    }
   ],
   "source": [
    "prediccion = nn.predict(np.array([[4, 3]]))\n",
    "print(prediccion)"
   ]
  },
  {
   "cell_type": "code",
   "execution_count": 14,
   "id": "523b8a03",
   "metadata": {},
   "outputs": [],
   "source": [
    "nn.save('regresion.h5')"
   ]
  }
 ],
 "metadata": {
  "kernelspec": {
   "display_name": "Python 3 (ipykernel)",
   "language": "python",
   "name": "python3"
  },
  "language_info": {
   "codemirror_mode": {
    "name": "ipython",
    "version": 3
   },
   "file_extension": ".py",
   "mimetype": "text/x-python",
   "name": "python",
   "nbconvert_exporter": "python",
   "pygments_lexer": "ipython3",
   "version": "3.9.7"
  }
 },
 "nbformat": 4,
 "nbformat_minor": 5
}
